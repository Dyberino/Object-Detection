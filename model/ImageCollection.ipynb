{
 "cells": [
  {
   "attachments": {},
   "cell_type": "markdown",
   "metadata": {},
   "source": [
    "## Working in virtual env"
   ]
  },
  {
   "cell_type": "code",
   "execution_count": 2,
   "metadata": {},
   "outputs": [
    {
     "ename": "SyntaxError",
     "evalue": "illegal target for annotation (3208390096.py, line 5)",
     "output_type": "error",
     "traceback": [
      "\u001b[1;36m  Cell \u001b[1;32mIn[2], line 5\u001b[1;36m\u001b[0m\n\u001b[1;33m    Looking in indexes: https://download.pytorch.org/whl/cu118\u001b[0m\n\u001b[1;37m    ^\u001b[0m\n\u001b[1;31mSyntaxError\u001b[0m\u001b[1;31m:\u001b[0m illegal target for annotation\n"
     ]
    }
   ],
   "source": [
    "#In console\n",
    "!-m venv ptod \n",
    "!.\\ptod\\Scripts\\activate\n",
    "!pip3 install torch torchvision torchaudio --index-url https://download.pytorch.org/whl/cu118\n",
    "Looking in indexes: https://download.pytorch.org/whl/cu118"
   ]
  },
  {
   "attachments": {},
   "cell_type": "markdown",
   "metadata": {},
   "source": [
    "## 1.Importing Dependencies for Images collection "
   ]
  },
  {
   "cell_type": "code",
   "execution_count": 10,
   "metadata": {},
   "outputs": [
    {
     "name": "stdout",
     "output_type": "stream",
     "text": [
      "Requirement already satisfied: opencv-python in c:\\users\\user\\desktop\\objectdetection\\ptod\\lib\\site-packages (4.7.0.72)\n",
      "Requirement already satisfied: numpy>=1.17.0 in c:\\users\\user\\desktop\\objectdetection\\ptod\\lib\\site-packages (from opencv-python) (1.24.1)\n",
      "Collecting gitpython\n",
      "  Downloading GitPython-3.1.31-py3-none-any.whl (184 kB)\n",
      "     ---------------------------------------- 0.0/184.3 kB ? eta -:--:--\n",
      "     ----------------- --------------------- 81.9/184.3 kB 2.3 MB/s eta 0:00:01\n",
      "     -------------------------------------- 184.3/184.3 kB 2.8 MB/s eta 0:00:00\n",
      "Collecting gitdb<5,>=4.0.1\n",
      "  Downloading gitdb-4.0.10-py3-none-any.whl (62 kB)\n",
      "     ---------------------------------------- 0.0/62.7 kB ? eta -:--:--\n",
      "     ---------------------------------------- 62.7/62.7 kB 3.3 MB/s eta 0:00:00\n",
      "Collecting smmap<6,>=3.0.1\n",
      "  Downloading smmap-5.0.0-py3-none-any.whl (24 kB)\n",
      "Installing collected packages: smmap, gitdb, gitpython\n",
      "Successfully installed gitdb-4.0.10 gitpython-3.1.31 smmap-5.0.0\n"
     ]
    }
   ],
   "source": [
    "!pip install opencv-python\n",
    "!pip install gitpython"
   ]
  },
  {
   "cell_type": "code",
   "execution_count": 3,
   "metadata": {},
   "outputs": [],
   "source": [
    "#Import opencv\n",
    "import cv2\n",
    "#Import uuid for naming images\n",
    "import uuid\n",
    "import os\n",
    "import time"
   ]
  },
  {
   "attachments": {},
   "cell_type": "markdown",
   "metadata": {},
   "source": [
    "## 2. Defining Images labels"
   ]
  },
  {
   "cell_type": "code",
   "execution_count": 2,
   "metadata": {},
   "outputs": [],
   "source": [
    "labels = ['neutral','happy','sad','angry','surprised']\n",
    "num_img = 20"
   ]
  },
  {
   "attachments": {},
   "cell_type": "markdown",
   "metadata": {},
   "source": [
    "## 3. Setup Folders"
   ]
  },
  {
   "cell_type": "code",
   "execution_count": 4,
   "metadata": {},
   "outputs": [
    {
     "data": {
      "text/plain": [
       "'workspace\\\\images\\\\collectedimages'"
      ]
     },
     "execution_count": 4,
     "metadata": {},
     "output_type": "execute_result"
    }
   ],
   "source": [
    "IMG_PATH = os.path.join('workspace','images','collectedimages')\n",
    "IMG_PATH"
   ]
  },
  {
   "cell_type": "code",
   "execution_count": 6,
   "metadata": {},
   "outputs": [
    {
     "data": {
      "text/plain": [
       "'nt'"
      ]
     },
     "execution_count": 6,
     "metadata": {},
     "output_type": "execute_result"
    }
   ],
   "source": [
    "os.name"
   ]
  },
  {
   "cell_type": "code",
   "execution_count": 5,
   "metadata": {},
   "outputs": [],
   "source": [
    "# for the purpose of working on mac and win machines\n",
    "\n",
    "if not os.path.exists(IMG_PATH):\n",
    "    if os.name == \"posix\":\n",
    "        !mkdir - p {IMG_PATH}\n",
    "    if os.name == \"nt\":\n",
    "        !mkdir {IMG_PATH}\n",
    "for label in labels:\n",
    "    path = os.path.join(IMG_PATH, label)\n",
    "    if not os.path.exists(path):\n",
    "        !mkdir {path}\n",
    "\n"
   ]
  },
  {
   "attachments": {},
   "cell_type": "markdown",
   "metadata": {},
   "source": [
    "## 4. Capture Images"
   ]
  },
  {
   "cell_type": "code",
   "execution_count": 8,
   "metadata": {},
   "outputs": [
    {
     "name": "stdout",
     "output_type": "stream",
     "text": [
      "Images for neutral\n",
      "Img number: 0\n",
      "Img number: 1\n",
      "Img number: 2\n",
      "Img number: 3\n",
      "Img number: 4\n",
      "Img number: 5\n",
      "Img number: 6\n",
      "Img number: 7\n",
      "Img number: 8\n",
      "Img number: 9\n",
      "Img number: 10\n",
      "Img number: 11\n",
      "Img number: 12\n",
      "Img number: 13\n",
      "Img number: 14\n",
      "Img number: 15\n",
      "Img number: 16\n",
      "Img number: 17\n",
      "Img number: 18\n",
      "Img number: 19\n",
      "Images for happy\n",
      "Img number: 0\n",
      "Img number: 1\n",
      "Img number: 2\n",
      "Img number: 3\n",
      "Img number: 4\n",
      "Img number: 5\n",
      "Img number: 6\n",
      "Img number: 7\n",
      "Img number: 8\n",
      "Img number: 9\n",
      "Img number: 10\n",
      "Img number: 11\n",
      "Img number: 12\n",
      "Img number: 13\n",
      "Img number: 14\n",
      "Img number: 15\n",
      "Img number: 16\n",
      "Img number: 17\n",
      "Img number: 18\n",
      "Img number: 19\n",
      "Images for sad\n",
      "Img number: 0\n",
      "Img number: 1\n",
      "Img number: 2\n",
      "Img number: 3\n",
      "Img number: 4\n",
      "Img number: 5\n",
      "Img number: 6\n",
      "Img number: 7\n",
      "Img number: 8\n",
      "Img number: 9\n",
      "Img number: 10\n",
      "Img number: 11\n",
      "Img number: 12\n",
      "Img number: 13\n",
      "Img number: 14\n",
      "Img number: 15\n",
      "Img number: 16\n",
      "Img number: 17\n",
      "Img number: 18\n",
      "Img number: 19\n",
      "Images for angry\n",
      "Img number: 0\n",
      "Img number: 1\n",
      "Img number: 2\n",
      "Img number: 3\n",
      "Img number: 4\n",
      "Img number: 5\n",
      "Img number: 6\n",
      "Img number: 7\n",
      "Img number: 8\n",
      "Img number: 9\n",
      "Img number: 10\n",
      "Img number: 11\n",
      "Img number: 12\n",
      "Img number: 13\n",
      "Img number: 14\n",
      "Img number: 15\n",
      "Img number: 16\n",
      "Img number: 17\n",
      "Img number: 18\n",
      "Img number: 19\n",
      "Images for surprised\n",
      "Img number: 0\n",
      "Img number: 1\n",
      "Img number: 2\n",
      "Img number: 3\n",
      "Img number: 4\n",
      "Img number: 5\n",
      "Img number: 6\n",
      "Img number: 7\n",
      "Img number: 8\n",
      "Img number: 9\n",
      "Img number: 10\n",
      "Img number: 11\n",
      "Img number: 12\n",
      "Img number: 13\n",
      "Img number: 14\n",
      "Img number: 15\n",
      "Img number: 16\n",
      "Img number: 17\n",
      "Img number: 18\n",
      "Img number: 19\n"
     ]
    }
   ],
   "source": [
    "for label in labels:\n",
    "    cap = cv2.VideoCapture(0) # 0 is the instance of the webcam (*can change depending on the machine*)\n",
    "    print(f\"Images for {label}\")\n",
    "    time.sleep(5)\n",
    "    for img in range(num_img):\n",
    "        print(f\"Img number: {img}\")\n",
    "        ret,frame = cap.read()\n",
    "        imgname = os.path.join(IMG_PATH,label,label+'.'+f'{img}.jpg')\n",
    "        cv2.imwrite(imgname,frame)\n",
    "        cv2.imshow(imgname,frame)\n",
    "        time.sleep(2)\n",
    "\n",
    "        if cv2.waitKey(1) & 0xFF == ord('q'):\n",
    "            break\n",
    "cap.release()\n",
    "cv2.destroyAllWindows()\n"
   ]
  },
  {
   "attachments": {},
   "cell_type": "markdown",
   "metadata": {},
   "source": [
    "## 5. Image Labeling"
   ]
  },
  {
   "cell_type": "code",
   "execution_count": 6,
   "metadata": {},
   "outputs": [
    {
     "name": "stdout",
     "output_type": "stream",
     "text": [
      "Requirement already satisfied: pyqt5 in c:\\users\\user\\desktop\\objectdetection\\ptod\\lib\\site-packages (5.15.9)\n",
      "Requirement already satisfied: lxml in c:\\users\\user\\desktop\\objectdetection\\ptod\\lib\\site-packages (4.9.2)\n",
      "Requirement already satisfied: PyQt5-Qt5>=5.15.2 in c:\\users\\user\\desktop\\objectdetection\\ptod\\lib\\site-packages (from pyqt5) (5.15.2)\n",
      "Requirement already satisfied: PyQt5-sip<13,>=12.11 in c:\\users\\user\\desktop\\objectdetection\\ptod\\lib\\site-packages (from pyqt5) (12.11.1)\n"
     ]
    }
   ],
   "source": [
    "!pip install --upgrade pyqt5 lxml"
   ]
  },
  {
   "cell_type": "code",
   "execution_count": 7,
   "metadata": {},
   "outputs": [
    {
     "name": "stdout",
     "output_type": "stream",
     "text": [
      "Package            Version\n",
      "------------------ ------------\n",
      "asttokens          2.2.1\n",
      "backcall           0.2.0\n",
      "certifi            2022.12.7\n",
      "charset-normalizer 2.1.1\n",
      "colorama           0.4.6\n",
      "comm               0.1.2\n",
      "debugpy            1.6.6\n",
      "decorator          5.1.1\n",
      "executing          1.2.0\n",
      "filelock           3.9.0\n",
      "idna               3.4\n",
      "ipykernel          6.22.0\n",
      "ipython            8.11.0\n",
      "jedi               0.18.2\n",
      "Jinja2             3.1.2\n",
      "jupyter_client     8.1.0\n",
      "jupyter_core       5.3.0\n",
      "lxml               4.9.2\n",
      "MarkupSafe         2.1.2\n",
      "matplotlib-inline  0.1.6\n",
      "mpmath             1.2.1\n",
      "nest-asyncio       1.5.6\n",
      "networkx           3.0\n",
      "numpy              1.24.1\n",
      "opencv-python      4.7.0.72\n",
      "packaging          23.0\n",
      "parso              0.8.3\n",
      "pickleshare        0.7.5\n",
      "Pillow             9.3.0\n",
      "pip                23.0.1\n",
      "platformdirs       3.1.1\n",
      "prompt-toolkit     3.0.38\n",
      "psutil             5.9.4\n",
      "pure-eval          0.2.2\n",
      "Pygments           2.14.0\n",
      "PyQt5              5.15.9\n",
      "PyQt5-Qt5          5.15.2\n",
      "PyQt5-sip          12.11.1\n",
      "python-dateutil    2.8.2\n",
      "pywin32            305\n",
      "pyzmq              25.0.2\n",
      "requests           2.28.1\n",
      "setuptools         65.5.0\n",
      "six                1.16.0\n",
      "stack-data         0.6.2\n",
      "sympy              1.11.1\n",
      "torch              2.0.0+cu118\n",
      "torchaudio         2.0.1+cu118\n",
      "torchvision        0.15.1+cu118\n",
      "tornado            6.2\n",
      "traitlets          5.9.0\n",
      "typing_extensions  4.4.0\n",
      "urllib3            1.26.13\n",
      "wcwidth            0.2.6\n"
     ]
    }
   ],
   "source": [
    "!pip list"
   ]
  },
  {
   "cell_type": "code",
   "execution_count": 8,
   "metadata": {},
   "outputs": [],
   "source": [
    "LABELING_PATH = os.path.join('workspace','labeling')"
   ]
  },
  {
   "cell_type": "code",
   "execution_count": 11,
   "metadata": {},
   "outputs": [],
   "source": [
    "if not os.path.exists(LABELING_PATH):\n",
    "    !mkdir {LABELING_PATH}\n",
    "    !git clone https://github.com/tzutalin/labelImg {LABELING_PATH}"
   ]
  },
  {
   "cell_type": "code",
   "execution_count": 12,
   "metadata": {},
   "outputs": [],
   "source": [
    "if os.name == 'posix':\n",
    "    !cd {LABELING_PATH && make qt5py3\n",
    "if os.name =='nt':\n",
    "    !cd {LABELING_PATH} && pyrcc5 -o libs/resources.py resources.qrc"
   ]
  },
  {
   "cell_type": "code",
   "execution_count": 13,
   "metadata": {},
   "outputs": [
    {
     "name": "stdout",
     "output_type": "stream",
     "text": [
      "ESC press\n",
      "Cancel creation.\n",
      "ESC press\n",
      "Cancel creation.\n",
      "ESC press\n",
      "Cancel creation.\n"
     ]
    }
   ],
   "source": [
    "!cd {LABELING_PATH} && python labelImg.py"
   ]
  },
  {
   "cell_type": "code",
   "execution_count": null,
   "metadata": {},
   "outputs": [],
   "source": []
  }
 ],
 "metadata": {
  "kernelspec": {
   "display_name": "ptod",
   "language": "python",
   "name": "ptod"
  },
  "language_info": {
   "codemirror_mode": {
    "name": "ipython",
    "version": 3
   },
   "file_extension": ".py",
   "mimetype": "text/x-python",
   "name": "python",
   "nbconvert_exporter": "python",
   "pygments_lexer": "ipython3",
   "version": "3.10.10"
  },
  "orig_nbformat": 4
 },
 "nbformat": 4,
 "nbformat_minor": 2
}
