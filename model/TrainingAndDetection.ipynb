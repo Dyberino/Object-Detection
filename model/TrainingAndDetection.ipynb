{
 "cells": [
  {
   "attachments": {},
   "cell_type": "markdown",
   "metadata": {},
   "source": [
    "## Imports"
   ]
  },
  {
   "cell_type": "code",
   "execution_count": 12,
   "metadata": {},
   "outputs": [
    {
     "name": "stdout",
     "output_type": "stream",
     "text": [
      "Collecting xmltodict\n",
      "  Downloading xmltodict-0.13.0-py2.py3-none-any.whl (10.0 kB)\n",
      "Installing collected packages: xmltodict\n",
      "Successfully installed xmltodict-0.13.0\n"
     ]
    }
   ],
   "source": [
    "!pip install xmltodict\n",
    "import os\n",
    "import torch\n",
    "import pandas as pd\n",
    "import numpy as np\n",
    "import torchvision\n",
    "import torch.nn as nn\n",
    "from torch.utils.data import Dataset, random_split, DataLoader\n",
    "import matplotlib.pyplot as plt\n",
    "import torch.nn.functional as F\n",
    "from torchvision.utils import make_grid\n",
    "from torchvision.datasets import VisionDataset\n",
    "import torchvision.transforms as transforms\n",
    "import torchvision.models as models\n",
    "from PIL import Image\n",
    "from collections import OrderedDict\n",
    "import xmltodict\n",
    "%matplotlib inline"
   ]
  },
  {
   "attachments": {},
   "cell_type": "markdown",
   "metadata": {},
   "source": [
    "## Creating a custom dataset that will hold the labeled data"
   ]
  },
  {
   "cell_type": "code",
   "execution_count": 13,
   "metadata": {},
   "outputs": [],
   "source": [
    "class CustomDataset(VisionDataset):\n",
    "    def __init__(self, root_dir, transform=None, target_transform=None):\n",
    "        super().__init__(root_dir, transform=transform, target_transform=target_transform)\n",
    "\n",
    "        self.image_paths = []\n",
    "        self.targets = []\n",
    "\n",
    "        # Iterate over all XML files in root_dir\n",
    "        for xml_file in os.listdir(root_dir):\n",
    "            if not xml_file.endswith('.xml'):\n",
    "                continue\n",
    "\n",
    "            with open(os.path.join(root_dir, xml_file)) as f:\n",
    "                xml_data = xmltodict.parse(f.read())\n",
    "\n",
    "            # Extract label and image path from XML file\n",
    "            label = xml_data['annotation']['object']['name']\n",
    "            image_path = os.path.join(root_dir, xml_data['annotation']['filename'])\n",
    "\n",
    "            self.targets.append(label)\n",
    "            self.image_paths.append(image_path)\n",
    "\n",
    "    def __getitem__(self, index):\n",
    "        # Load image and convert to tensor\n",
    "        image = Image.open(self.image_paths[index])\n",
    "        image = self.transform(image)\n",
    "\n",
    "        # Convert label to tensor\n",
    "        target = self.targets[index]\n",
    "        target = torch.tensor(target)\n",
    "\n",
    "        return image, target\n",
    "\n",
    "    def __len__(self):\n",
    "        return len(self.image_paths)\n"
   ]
  },
  {
   "cell_type": "code",
   "execution_count": 14,
   "metadata": {},
   "outputs": [],
   "source": [
    "train_dataset = CustomDataset(r'C:\\Users\\User\\Desktop\\ObjectDetection\\ptod\\Image Collection\\workspace\\images\\train')\n",
    "test_dataset = CustomDataset(r'C:\\Users\\User\\Desktop\\ObjectDetection\\ptod\\Image Collection\\workspace\\images\\test')\n"
   ]
  },
  {
   "cell_type": "code",
   "execution_count": 15,
   "metadata": {},
   "outputs": [],
   "source": [
    "train_loader = torch.utils.data.DataLoader(train_dataset, batch_size=4, shuffle=True)\n",
    "test_loader = torch.utils.data.DataLoader(test_dataset, batch_size=4, shuffle=False)\n"
   ]
  },
  {
   "cell_type": "code",
   "execution_count": null,
   "metadata": {},
   "outputs": [],
   "source": []
  }
 ],
 "metadata": {
  "kernelspec": {
   "display_name": "ptod",
   "language": "python",
   "name": "python3"
  },
  "language_info": {
   "codemirror_mode": {
    "name": "ipython",
    "version": 3
   },
   "file_extension": ".py",
   "mimetype": "text/x-python",
   "name": "python",
   "nbconvert_exporter": "python",
   "pygments_lexer": "ipython3",
   "version": "3.10.11"
  },
  "orig_nbformat": 4
 },
 "nbformat": 4,
 "nbformat_minor": 2
}
